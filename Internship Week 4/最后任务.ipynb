{
 "cells": [
  {
   "cell_type": "code",
   "execution_count": 4,
   "metadata": {},
   "outputs": [],
   "source": [
    "import jieba\n",
    "from sklearn.feature_extraction.text import TfidfVectorizer\n",
    "from sklearn.naive_bayes import MultinomialNB\n",
    "from sklearn.model_selection import train_test_split\n",
    "from sklearn.metrics import accuracy_score, classification_report\n",
    "import pandas as pd"
   ]
  },
  {
   "cell_type": "code",
   "execution_count": 8,
   "metadata": {},
   "outputs": [
    {
     "name": "stdout",
     "output_type": "stream",
     "text": [
      "准确率: 0.3\n",
      "分类报告:\n",
      "               precision    recall  f1-score   support\n",
      "\n",
      "           -       0.00      0.00      0.00         1\n",
      "         动物圈       0.00      0.00      0.00         3\n",
      "          动画       0.00      0.00      0.00         7\n",
      "          国创       0.00      0.00      0.00         1\n",
      "          影视       0.00      0.00      0.00         9\n",
      "          时尚       0.00      0.00      0.00         4\n",
      "          汽车       0.00      0.00      0.00         1\n",
      "          游戏       0.39      0.75      0.51        24\n",
      "          生活       0.22      0.63      0.33        19\n",
      "          知识       0.00      0.00      0.00         2\n",
      "          科技       0.00      0.00      0.00         1\n",
      "         纪录片       0.00      0.00      0.00         1\n",
      "          美食       0.00      0.00      0.00        15\n",
      "          舞蹈       0.00      0.00      0.00         2\n",
      "          资讯       0.00      0.00      0.00         6\n",
      "          运动       0.00      0.00      0.00         1\n",
      "          音乐       0.00      0.00      0.00         2\n",
      "          鬼畜       0.00      0.00      0.00         1\n",
      "\n",
      "    accuracy                           0.30       100\n",
      "   macro avg       0.03      0.08      0.05       100\n",
      "weighted avg       0.14      0.30      0.19       100\n",
      "\n"
     ]
    },
    {
     "name": "stderr",
     "output_type": "stream",
     "text": [
      "c:\\Users\\wang\\anaconda3\\lib\\site-packages\\sklearn\\metrics\\_classification.py:1327: UndefinedMetricWarning: Precision and F-score are ill-defined and being set to 0.0 in labels with no predicted samples. Use `zero_division` parameter to control this behavior.\n",
      "  _warn_prf(average, modifier, msg_start, len(result))\n",
      "c:\\Users\\wang\\anaconda3\\lib\\site-packages\\sklearn\\metrics\\_classification.py:1327: UndefinedMetricWarning: Precision and F-score are ill-defined and being set to 0.0 in labels with no predicted samples. Use `zero_division` parameter to control this behavior.\n",
      "  _warn_prf(average, modifier, msg_start, len(result))\n",
      "c:\\Users\\wang\\anaconda3\\lib\\site-packages\\sklearn\\metrics\\_classification.py:1327: UndefinedMetricWarning: Precision and F-score are ill-defined and being set to 0.0 in labels with no predicted samples. Use `zero_division` parameter to control this behavior.\n",
      "  _warn_prf(average, modifier, msg_start, len(result))\n"
     ]
    }
   ],
   "source": [
    "data = pd.read_excel(\"C:/Users/wang/Desktop/NewFolder/data.xlsx\")\n",
    "\n",
    "# 分词函数\n",
    "def jieba_tokenize(text):\n",
    "    return ' '.join(jieba.cut(text))\n",
    "\n",
    "# 应用分词到数据\n",
    "data['视频标题_分词'] = data['视频标题'].apply(jieba_tokenize)\n",
    "data['视频描述_分词'] = data['视频描述'].apply(jieba_tokenize)\n",
    "\n",
    "# 合并视频标题和描述\n",
    "data['合并'] = data['视频标题_分词'] + ' ' + data['视频描述_分词']\n",
    "\n",
    "# 创建TF-IDF向量化器\n",
    "vectorizer = TfidfVectorizer()\n",
    "X = vectorizer.fit_transform(data['合并'])\n",
    "y = data['视频分区']\n",
    "\n",
    "# 分割数据集\n",
    "X_train, X_test, y_train, y_test = train_test_split(X, y, test_size=0.2, random_state=42)\n",
    "\n",
    "# 训练模型\n",
    "model = MultinomialNB()\n",
    "model.fit(X_train, y_train)\n",
    "\n",
    "# prediction\n",
    "y_pred = model.predict(X_test)\n",
    "\n",
    "# 评估\n",
    "accuracy = accuracy_score(y_test, y_pred)\n",
    "report = classification_report(y_test, y_pred)\n",
    "\n",
    "print(\"准确率:\", accuracy)\n",
    "print(\"分类报告:\\n\", report)"
   ]
  }
 ],
 "metadata": {
  "kernelspec": {
   "display_name": "base",
   "language": "python",
   "name": "python3"
  },
  "language_info": {
   "codemirror_mode": {
    "name": "ipython",
    "version": 3
   },
   "file_extension": ".py",
   "mimetype": "text/x-python",
   "name": "python",
   "nbconvert_exporter": "python",
   "pygments_lexer": "ipython3",
   "version": "3.9.7"
  }
 },
 "nbformat": 4,
 "nbformat_minor": 2
}
