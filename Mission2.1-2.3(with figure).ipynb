{
 "cells": [
  {
   "cell_type": "code",
   "execution_count": 9,
   "metadata": {
    "vscode": {
     "languageId": "powershell"
    }
   },
   "outputs": [
    {
     "name": "stdout",
     "output_type": "stream",
     "text": [
      "Collecting jieba\n",
      "  Downloading jieba-0.42.1.tar.gz (19.2 MB)\n",
      "Building wheels for collected packages: jieba\n",
      "  Building wheel for jieba (setup.py): started\n",
      "  Building wheel for jieba (setup.py): finished with status 'done'\n",
      "  Created wheel for jieba: filename=jieba-0.42.1-py3-none-any.whl size=19314476 sha256=00267f5ceaa82f84d81b521daa0692f27cf4631b9632addc9c60f3afee253efd\n",
      "  Stored in directory: c:\\users\\wang\\appdata\\local\\pip\\cache\\wheels\\7d\\74\\cf\\08c94db4b784e2c1ef675a600b7b5b281fd25240dcb954ee7e\n",
      "Successfully built jieba\n",
      "Installing collected packages: jieba\n",
      "Successfully installed jieba-0.42.1\n",
      "Note: you may need to restart the kernel to use updated packages.\n"
     ]
    }
   ],
   "source": [
    "pip install jieba"
   ]
  },
  {
   "cell_type": "code",
   "execution_count": 11,
   "metadata": {
    "vscode": {
     "languageId": "powershell"
    }
   },
   "outputs": [],
   "source": [
    "import pandas as pd\n",
    "import numpy as np\n",
    "import jieba\n",
    "from pyecharts.charts import Map\n",
    "from pyecharts import options as opts\n",
    "from pyecharts.charts import Geo\n",
    "from pyecharts.globals import ChartType"
   ]
  },
  {
   "cell_type": "code",
   "execution_count": 12,
   "metadata": {},
   "outputs": [],
   "source": [
    "study = pd.read_csv('C:/Users/wang/Desktop/NewFolder/study_information.csv', encoding='gbk')\n",
    "user = pd.read_csv('C:/Users/wang/Desktop/NewFolder/users.csv', encoding='gbk')\n",
    "login = pd.read_csv('C:/Users/wang/Desktop/NewFolder/login.csv', encoding='gbk')"
   ]
  },
  {
   "cell_type": "code",
   "execution_count": 13,
   "metadata": {},
   "outputs": [],
   "source": [
    "#重复缺失值的处理\n",
    "user = user.drop_duplicates()\n",
    "study = study.dropna(subset=[\"price\"])\n",
    "user['school'] = user['school'].fillna('unknown')\n",
    "dif = user['recently_logged'] == '--'\n",
    "user.loc[dif,'recently_logged'] = user.loc[dif,'register_time']\n",
    "\n",
    "login_count = login['login_place'].value_counts()\n",
    "place = login_count.keys()\n",
    "count = login_count.values"
   ]
  },
  {
   "cell_type": "code",
   "execution_count": 14,
   "metadata": {},
   "outputs": [
    {
     "name": "stderr",
     "output_type": "stream",
     "text": [
      "Building prefix dict from the default dictionary ...\n",
      "Dumping model to file cache C:\\Users\\wang\\AppData\\Local\\Temp\\jieba.cache\n",
      "Loading model cost 0.585 seconds.\n",
      "Prefix dict has been built successfully.\n"
     ]
    }
   ],
   "source": [
    "l = len(place)\n",
    "\n",
    "words = ['广西南宁',\n",
    " '云南昆明','中国台湾','山西太原',\n",
    " '吉林长春',\n",
    " '福建厦门',\n",
    " '湖南永州',\n",
    " '山西大同',\n",
    " '辽宁沈阳',\n",
    " '广西北海',\n",
    " '甘肃兰州',\n",
    " '山西晋',\n",
    " '辽宁大连',\n",
    " '新疆伊犁哈萨克自治州',\n",
    " '辽宁抚顺',\n",
    " '新疆阿勒泰地区',\n",
    " '新疆巴音郭楞蒙古自治州','蒙古']\n",
    "\n",
    "for i in words:\n",
    "     jieba.del_word(i)\n",
    "jieba.add_word('内蒙古')\n",
    "jieba.add_word('山西')\n",
    "jieba.add_word('湖南')\n",
    "\n",
    "province_name = ['北京', '天津', '河北', '山西','内蒙古','辽宁', '吉林', '黑龙江','上海', '江苏', '浙江', '安徽', '福建', '江西','山东', '河南', '湖北', '湖南', '广东', '广西', '海南', '重庆', '四川', '贵州', '云南', '西藏','陕西', '甘肃','青海', '宁夏', '新疆','台湾']\n",
    "province = dict()\n",
    "for i in province_name:\n",
    "    province[i] = 0\n",
    "\n",
    "city = dict()\n",
    "\n",
    "for i in range(0, l):\n",
    "    place_name = jieba.lcut(place[i])\n",
    "    if len(place_name) > 1:\n",
    "        if place_name[1] in province:\n",
    "            province[place_name[1]] += count[i]\n",
    "        \n",
    "        if len(place_name) == 3:\n",
    "            if place_name[2] in city:\n",
    "                city[place_name[2]] += count[i]\n",
    "            else:\n",
    "                city[place_name[2]] = count[i]  \n",
    "\n",
    "p = list(province.keys())\n",
    "v = list(province.values())\n",
    "dt = []\n",
    "for i in range(0,len(p)):\n",
    "    dt.append((p[i], v[i]/75))\n",
    "\n",
    "\n",
    "ct = list(city.keys())\n",
    "cv = list(city.values())\n",
    "dt_c = []\n",
    "for i in range(0,len(ct)):\n",
    "    dt_c.append((ct[i], cv[i]/75))"
   ]
  },
  {
   "cell_type": "code",
   "execution_count": 15,
   "metadata": {},
   "outputs": [
    {
     "data": {
      "text/plain": [
       "'c:\\\\Users\\\\wang\\\\Downloads\\\\city.html'"
      ]
     },
     "execution_count": 15,
     "metadata": {},
     "output_type": "execute_result"
    }
   ],
   "source": [
    "#省份热力图\n",
    "c = (\n",
    "    Geo()\n",
    "    .add_schema(maptype=\"china\")\n",
    "    .add(\n",
    "        \"geo\",\n",
    "        dt,\n",
    "        type_=ChartType.HEATMAP,\n",
    " \n",
    "        \n",
    "    )\n",
    "    .set_series_opts(label_opts=opts.LabelOpts(is_show=False))\n",
    "    .set_global_opts(\n",
    "        visualmap_opts=opts.VisualMapOpts(),\n",
    "        title_opts=opts.TitleOpts(title=\"省份热力分布图\"),\n",
    "        \n",
    "    ).render('province.html')\n",
    ")\n",
    "c\n",
    "#城市热力图\n",
    "c2 = (\n",
    "    Geo( is_ignore_nonexistent_coord = True)\n",
    "    .add_schema(maptype=\"china\")\n",
    "    .add(\n",
    "        \"geo\",\n",
    "        dt_c,\n",
    "        type_=ChartType.HEATMAP,\n",
    " \n",
    "        \n",
    "    )\n",
    "    .set_series_opts(label_opts=opts.LabelOpts(is_show=False))\n",
    "    .set_global_opts(\n",
    "        visualmap_opts=opts.VisualMapOpts(),\n",
    "        title_opts=opts.TitleOpts(title=\"城市热力分布图\"),\n",
    "        \n",
    "    ).render('city.html')\n",
    ")\n",
    "c2"
   ]
  },
  {
   "cell_type": "code",
   "execution_count": 27,
   "metadata": {},
   "outputs": [
    {
     "name": "stderr",
     "output_type": "stream",
     "text": [
      "C:\\Users\\wang\\AppData\\Local\\Temp/ipykernel_20648/3953561070.py:8: UserWarning: Could not infer format, so each element will be parsed individually, falling back to `dateutil`. To ensure parsing is consistent and as-expected, please specify a format.\n",
      "  logintime['Time'] = pd.to_datetime(logintime['Time'])\n",
      "c:\\Users\\wang\\anaconda3\\lib\\site-packages\\matplotlib\\backends\\backend_agg.py:240: RuntimeWarning: Glyph 24037 missing from current font.\n",
      "  font.set_text(s, 0.0, flags=flags)\n",
      "c:\\Users\\wang\\anaconda3\\lib\\site-packages\\matplotlib\\backends\\backend_agg.py:240: RuntimeWarning: Glyph 20316 missing from current font.\n",
      "  font.set_text(s, 0.0, flags=flags)\n",
      "c:\\Users\\wang\\anaconda3\\lib\\site-packages\\matplotlib\\backends\\backend_agg.py:240: RuntimeWarning: Glyph 26085 missing from current font.\n",
      "  font.set_text(s, 0.0, flags=flags)\n",
      "c:\\Users\\wang\\anaconda3\\lib\\site-packages\\matplotlib\\backends\\backend_agg.py:203: RuntimeWarning: Glyph 24037 missing from current font.\n",
      "  font.set_text(s, 0, flags=flags)\n",
      "c:\\Users\\wang\\anaconda3\\lib\\site-packages\\matplotlib\\backends\\backend_agg.py:203: RuntimeWarning: Glyph 20316 missing from current font.\n",
      "  font.set_text(s, 0, flags=flags)\n",
      "c:\\Users\\wang\\anaconda3\\lib\\site-packages\\matplotlib\\backends\\backend_agg.py:203: RuntimeWarning: Glyph 26085 missing from current font.\n",
      "  font.set_text(s, 0, flags=flags)\n"
     ]
    },
    {
     "data": {
      "image/png": "[encoded data removed]",
      "text/plain": [
       "<Figure size 720x504 with 1 Axes>"
      ]
     },
     "metadata": {},
     "output_type": "display_data"
    },
    {
     "name": "stderr",
     "output_type": "stream",
     "text": [
      "c:\\Users\\wang\\anaconda3\\lib\\site-packages\\matplotlib\\backends\\backend_agg.py:240: RuntimeWarning: Glyph 20241 missing from current font.\n",
      "  font.set_text(s, 0.0, flags=flags)\n",
      "c:\\Users\\wang\\anaconda3\\lib\\site-packages\\matplotlib\\backends\\backend_agg.py:240: RuntimeWarning: Glyph 24687 missing from current font.\n",
      "  font.set_text(s, 0.0, flags=flags)\n",
      "c:\\Users\\wang\\anaconda3\\lib\\site-packages\\matplotlib\\backends\\backend_agg.py:240: RuntimeWarning: Glyph 26085 missing from current font.\n",
      "  font.set_text(s, 0.0, flags=flags)\n",
      "c:\\Users\\wang\\anaconda3\\lib\\site-packages\\matplotlib\\backends\\backend_agg.py:203: RuntimeWarning: Glyph 20241 missing from current font.\n",
      "  font.set_text(s, 0, flags=flags)\n",
      "c:\\Users\\wang\\anaconda3\\lib\\site-packages\\matplotlib\\backends\\backend_agg.py:203: RuntimeWarning: Glyph 24687 missing from current font.\n",
      "  font.set_text(s, 0, flags=flags)\n",
      "c:\\Users\\wang\\anaconda3\\lib\\site-packages\\matplotlib\\backends\\backend_agg.py:203: RuntimeWarning: Glyph 26085 missing from current font.\n",
      "  font.set_text(s, 0, flags=flags)\n"
     ]
    },
    {
     "data": {
      "image/png": "[encoded data removed]",
      "text/plain": [
       "<Figure size 720x504 with 1 Axes>"
      ]
     },
     "metadata": {},
     "output_type": "display_data"
    }
   ],
   "source": [
    "#把登陆时间转化为星期形式\n",
    "logintime = pd.read_csv('C:/Users/wang/Desktop/NewFolder/login.csv',encoding = \"gbk\")\n",
    "logintime['login_time'] = pd.to_datetime(logintime['login_time'])\n",
    "logintime['week'] = logintime['login_time'].apply(lambda x:x.weekday())\n",
    "logintime['work'] = logintime['week'].apply(lambda x:True if x<=5 else False)\n",
    "logintime['Time'] = logintime['login_time'].astype(str)\n",
    "logintime['Time'] = logintime['Time'].apply(lambda x:x.split(' ')[1])\n",
    "logintime['Time'] = pd.to_datetime(logintime['Time'])\n",
    "logintime['Time'] = logintime['Time'].dt.strftime('%H,%M,%S') \n",
    "logintime['Time'] = logintime['Time'].apply(lambda x:x.split(',')[0])\n",
    "logintime['Time'] = logintime['Time'].apply(lambda x:x + \" - \" + str(int(x) + 1) )\n",
    "\n",
    "\n",
    "#区分工作日与休息日\n",
    "login_work = logintime[logintime['work'] == True]\n",
    "login_rest = logintime[logintime['work'] == False]\n",
    "\n",
    "workday = login_work.groupby('Time')['Time'].count()\n",
    "restday = login_rest.groupby('Time')['Time'].count()\n",
    "\n",
    "x_list = []\n",
    "for x in range(0,24):\n",
    "    st = \"{0}-{1}\".format(str(x),str(x+1))\n",
    "    x_list.append(st)\n",
    "\n",
    "# 柱状图\n",
    "import matplotlib.pyplot as plt\n",
    "plt.style.use(\"ggplot\")\n",
    "fig, ax = plt.subplots(figsize=(10, 7))\n",
    "ax.bar(x = x_list, height = workday)\n",
    "ax.set_title(\"工作日\", fontsize=15)\n",
    "plt.show()\n",
    "\n",
    "plt.style.use(\"ggplot\")\n",
    "fig2, ax2 = plt.subplots(figsize=(10, 7))\n",
    "ax2.bar(x = x_list, height = restday)\n",
    "ax2.set_title(\"休息日\", fontsize=15)\n",
    "plt.show()"
   ]
  }
 ],
 "metadata": {
  "kernelspec": {
   "display_name": "base",
   "language": "python",
   "name": "python3"
  },
  "language_info": {
   "codemirror_mode": {
    "name": "ipython",
    "version": 3
   },
   "file_extension": ".py",
   "mimetype": "text/x-python",
   "name": "python",
   "nbconvert_exporter": "python",
   "pygments_lexer": "ipython3",
   "version": "3.9.7"
  }
 },
 "nbformat": 4,
 "nbformat_minor": 2
}
